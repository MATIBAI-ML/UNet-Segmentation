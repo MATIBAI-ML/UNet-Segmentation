{
 "cells": [
  {
   "cell_type": "code",
   "execution_count": null,
   "id": "d5187333",
   "metadata": {},
   "outputs": [
    {
     "name": "stderr",
     "output_type": "stream",
     "text": [
      "2025-07-02 12:19:22.313313: I tensorflow/core/platform/cpu_feature_guard.cc:210] This TensorFlow binary is optimized to use available CPU instructions in performance-critical operations.\n",
      "To enable the following instructions: AVX2 AVX512F AVX512_VNNI FMA, in other operations, rebuild TensorFlow with the appropriate compiler flags.\n"
     ]
    }
   ],
   "source": [
    "#import necessary packages\n",
    "import os\n",
    "import  numpy as np\n",
    "import tensorflow as tf\n",
    "from model import build_model\n",
    "from keras.callbacks import ModelCheckpoint, ReduceLROnPlateau, EarlyStopping\n",
    "from tensorflow.keras.models import load_model"
   ]
  },
  {
   "cell_type": "code",
   "execution_count": null,
   "id": "aa9811c5",
   "metadata": {},
   "outputs": [],
   "source": [
    "#load model1\n",
    "best_model_file = os.path.expanduser(\"~/Desktop/best-lung-Unet-waveletshenzhen.keras\")\n",
    "model = tf.keras.models.load_model(best_model_file)  # Set compile=False if it was compiled with custom objects"
   ]
  },
  {
   "cell_type": "code",
   "execution_count": null,
   "id": "2fdba05c",
   "metadata": {},
   "outputs": [],
   "source": [
    "allValidateImagesNP = np.load(\"data_wavelet_36/Unet-Validate-Lung-Images.npy\")\n",
    "maskValidateImagesNP = np.load(\"data_wavelet_36/Unet-Validate-Lung-Masks.npy\")"
   ]
  },
  {
   "cell_type": "code",
   "execution_count": null,
   "id": "83ac2e7f",
   "metadata": {},
   "outputs": [
    {
     "name": "stdout",
     "output_type": "stream",
     "text": [
      "\u001b[1m1/1\u001b[0m \u001b[32m━━━━━━━━━━━━━━━━━━━━\u001b[0m\u001b[37m\u001b[0m \u001b[1m4s\u001b[0m 4s/step\n",
      "Mean DICE score on validation set (wavelet shenzhen): 0.5200167364037763\n"
     ]
    }
   ],
   "source": [
    "def dice_score_np(y_true, y_pred, smooth=1):\n",
    "    y_true_f = y_true.flatten()\n",
    "    y_pred_f = y_pred.flatten()\n",
    "    intersection = np.sum(y_true_f * y_pred_f)\n",
    "    return (2. * intersection + smooth) / (np.sum(y_true_f) + np.sum(y_pred_f) + smooth)\n",
    "\n",
    "#predict\n",
    "y_pred = model.predict(allValidateImagesNP)\n",
    "y_pred_thresh = (y_pred > 0.5).astype(np.uint8)\n",
    "\n",
    "#compute average DICE score for model1\n",
    "dice_scores = [dice_score_np(y_true, y_pred) for y_true, y_pred in zip(maskValidateImagesNP, y_pred_thresh)]\n",
    "mean_dice = np.mean(dice_scores)\n",
    "print(\"Mean DICE score on validation set (wavelet shenzhen):\", mean_dice)\n"
   ]
  },
  {
   "cell_type": "code",
   "execution_count": null,
   "id": "4e7848d1",
   "metadata": {},
   "outputs": [],
   "source": [
    "#load model2\n",
    "best_model_file = os.path.expanduser(\"~/Desktop/best-lung-Unet-waveletdarwin.keras\")\n",
    "model = tf.keras.models.load_model(best_model_file)"
   ]
  },
  {
   "cell_type": "code",
   "execution_count": null,
   "id": "7197eb7a",
   "metadata": {},
   "outputs": [
    {
     "name": "stdout",
     "output_type": "stream",
     "text": [
      "\u001b[1m1/1\u001b[0m \u001b[32m━━━━━━━━━━━━━━━━━━━━\u001b[0m\u001b[37m\u001b[0m \u001b[1m3s\u001b[0m 3s/step\n",
      "Mean DICE score on validation set (wavelet darwin): 0.5191873277039358\n"
     ]
    }
   ],
   "source": [
    "def dice_score_np(y_true, y_pred, smooth=1):\n",
    "    y_true_f = y_true.flatten()\n",
    "    y_pred_f = y_pred.flatten()\n",
    "    intersection = np.sum(y_true_f * y_pred_f)\n",
    "    return (2. * intersection + smooth) / (np.sum(y_true_f) + np.sum(y_pred_f) + smooth)\n",
    "\n",
    "#predict\n",
    "y_pred = model.predict(allValidateImagesNP)\n",
    "y_pred_thresh = (y_pred > 0.5).astype(np.uint8)\n",
    "\n",
    "#compute average DICE score for model2\n",
    "dice_scores = [dice_score_np(y_true, y_pred) for y_true, y_pred in zip(maskValidateImagesNP, y_pred_thresh)]\n",
    "mean_dice = np.mean(dice_scores)\n",
    "print(\"Mean DICE score on validation set (wavelet darwin):\", mean_dice)\n"
   ]
  },
  {
   "cell_type": "code",
   "execution_count": null,
   "id": "8ca83493",
   "metadata": {},
   "outputs": [],
   "source": [
    "#load model3\n",
    "best_model_file = os.path.expanduser(\"~/Desktop/lung-Unet.keras\")\n",
    "model = tf.keras.models.load_model(best_model_file)"
   ]
  },
  {
   "cell_type": "code",
   "execution_count": null,
   "id": "f28f36f5",
   "metadata": {},
   "outputs": [
    {
     "name": "stdout",
     "output_type": "stream",
     "text": [
      "\u001b[1m1/1\u001b[0m \u001b[32m━━━━━━━━━━━━━━━━━━━━\u001b[0m\u001b[37m\u001b[0m \u001b[1m2s\u001b[0m 2s/step\n",
      "Mean DICE score on validation set (montgomery): 0.7586707955434928\n"
     ]
    }
   ],
   "source": [
    "def dice_score_np(y_true, y_pred, smooth=1):\n",
    "    y_true_f = y_true.flatten()\n",
    "    y_pred_f = y_pred.flatten()\n",
    "    intersection = np.sum(y_true_f * y_pred_f)\n",
    "    return (2. * intersection + smooth) / (np.sum(y_true_f) + np.sum(y_pred_f) + smooth)\n",
    "\n",
    "#predict\n",
    "y_pred = model.predict(allValidateImagesNP)\n",
    "y_pred_thresh = (y_pred > 0.5).astype(np.uint8)\n",
    "\n",
    "#compute average DICE score for model3\n",
    "dice_scores = [dice_score_np(y_true, y_pred) for y_true, y_pred in zip(maskValidateImagesNP, y_pred_thresh)]\n",
    "mean_dice = np.mean(dice_scores)\n",
    "print(\"Mean DICE score on validation set (montgomery):\", mean_dice)"
   ]
  },
  {
   "cell_type": "code",
   "execution_count": null,
   "id": "619b7953",
   "metadata": {},
   "outputs": [],
   "source": [
    "#load model4\n",
    "best_model_file = os.path.expanduser(\"~/Desktop/best-lung-Unet-shenzhen.keras\")\n",
    "model = tf.keras.models.load_model(best_model_file)"
   ]
  },
  {
   "cell_type": "code",
   "execution_count": null,
   "id": "fa623dda",
   "metadata": {},
   "outputs": [
    {
     "name": "stdout",
     "output_type": "stream",
     "text": [
      "\u001b[1m1/1\u001b[0m \u001b[32m━━━━━━━━━━━━━━━━━━━━\u001b[0m\u001b[37m\u001b[0m \u001b[1m2s\u001b[0m 2s/step\n",
      "Mean DICE score on validation set (shenzhen): 0.827834856574178\n"
     ]
    }
   ],
   "source": [
    "def dice_score_np(y_true, y_pred, smooth=1):\n",
    "    y_true_f = y_true.flatten()\n",
    "    y_pred_f = y_pred.flatten()\n",
    "    intersection = np.sum(y_true_f * y_pred_f)\n",
    "    return (2. * intersection + smooth) / (np.sum(y_true_f) + np.sum(y_pred_f) + smooth)\n",
    "\n",
    "#predict\n",
    "y_pred = model.predict(allValidateImagesNP)\n",
    "y_pred_thresh = (y_pred > 0.5).astype(np.uint8)\n",
    "\n",
    "#compute average DICE score for model4\n",
    "dice_scores = [dice_score_np(y_true, y_pred) for y_true, y_pred in zip(maskValidateImagesNP, y_pred_thresh)]\n",
    "mean_dice = np.mean(dice_scores)\n",
    "print(\"Mean DICE score on validation set (shenzhen):\", mean_dice)"
   ]
  },
  {
   "cell_type": "code",
   "execution_count": null,
   "id": "27f588d0",
   "metadata": {},
   "outputs": [],
   "source": [
    "#load model5\n",
    "best_model_file = os.path.expanduser(\"~/Desktop/best-lung-Unet-darwin.keras\")\n",
    "model = tf.keras.models.load_model(best_model_file)"
   ]
  },
  {
   "cell_type": "code",
   "execution_count": null,
   "id": "235ab367",
   "metadata": {},
   "outputs": [
    {
     "name": "stdout",
     "output_type": "stream",
     "text": [
      "WARNING:tensorflow:5 out of the last 5 calls to <function TensorFlowTrainer.make_predict_function.<locals>.one_step_on_data_distributed at 0x19064b060> triggered tf.function retracing. Tracing is expensive and the excessive number of tracings could be due to (1) creating @tf.function repeatedly in a loop, (2) passing tensors with different shapes, (3) passing Python objects instead of tensors. For (1), please define your @tf.function outside of the loop. For (2), @tf.function has reduce_retracing=True option that can avoid unnecessary retracing. For (3), please refer to https://www.tensorflow.org/guide/function#controlling_retracing and https://www.tensorflow.org/api_docs/python/tf/function for  more details.\n",
      "\u001b[1m1/1\u001b[0m \u001b[32m━━━━━━━━━━━━━━━━━━━━\u001b[0m\u001b[37m\u001b[0m \u001b[1m2s\u001b[0m 2s/step\n",
      "Mean DICE score on validation set (darwin): 0.8973836427315869\n"
     ]
    }
   ],
   "source": [
    "def dice_score_np(y_true, y_pred, smooth=1):\n",
    "    y_true_f = y_true.flatten()\n",
    "    y_pred_f = y_pred.flatten()\n",
    "    intersection = np.sum(y_true_f * y_pred_f)\n",
    "    return (2. * intersection + smooth) / (np.sum(y_true_f) + np.sum(y_pred_f) + smooth)\n",
    "\n",
    "#predict\n",
    "y_pred = model.predict(allValidateImagesNP)\n",
    "y_pred_thresh = (y_pred > 0.5).astype(np.uint8)\n",
    "\n",
    "#compute average DICE score for model5\n",
    "dice_scores = [dice_score_np(y_true, y_pred) for y_true, y_pred in zip(maskValidateImagesNP, y_pred_thresh)]\n",
    "mean_dice = np.mean(dice_scores)\n",
    "print(\"Mean DICE score on validation set (darwin):\", mean_dice)"
   ]
  },
  {
   "cell_type": "code",
   "execution_count": 13,
   "id": "036e8403",
   "metadata": {},
   "outputs": [],
   "source": [
    "best_model_file = os.path.expanduser(\"~/Desktop/best-lung-Unet-aggregated.keras\")\n",
    "model = tf.keras.models.load_model(best_model_file)\n",
    "\n",
    "#biased since trained on shenzhen as well"
   ]
  },
  {
   "cell_type": "code",
   "execution_count": 14,
   "id": "462d3964",
   "metadata": {},
   "outputs": [
    {
     "name": "stdout",
     "output_type": "stream",
     "text": [
      "WARNING:tensorflow:6 out of the last 6 calls to <function TensorFlowTrainer.make_predict_function.<locals>.one_step_on_data_distributed at 0x1909d2f20> triggered tf.function retracing. Tracing is expensive and the excessive number of tracings could be due to (1) creating @tf.function repeatedly in a loop, (2) passing tensors with different shapes, (3) passing Python objects instead of tensors. For (1), please define your @tf.function outside of the loop. For (2), @tf.function has reduce_retracing=True option that can avoid unnecessary retracing. For (3), please refer to https://www.tensorflow.org/guide/function#controlling_retracing and https://www.tensorflow.org/api_docs/python/tf/function for  more details.\n",
      "\u001b[1m1/1\u001b[0m \u001b[32m━━━━━━━━━━━━━━━━━━━━\u001b[0m\u001b[37m\u001b[0m \u001b[1m3s\u001b[0m 3s/step\n",
      "Mean DICE score on validation set (aggregated): 0.9820874391869079\n"
     ]
    }
   ],
   "source": [
    "def dice_score_np(y_true, y_pred, smooth=1):\n",
    "    y_true_f = y_true.flatten()\n",
    "    y_pred_f = y_pred.flatten()\n",
    "    intersection = np.sum(y_true_f * y_pred_f)\n",
    "    return (2. * intersection + smooth) / (np.sum(y_true_f) + np.sum(y_pred_f) + smooth)\n",
    "\n",
    "# Predict\n",
    "y_pred = model.predict(allValidateImagesNP)\n",
    "y_pred_thresh = (y_pred > 0.5).astype(np.uint8)\n",
    "\n",
    "# Compute average DICE score\n",
    "dice_scores = [dice_score_np(y_true, y_pred) for y_true, y_pred in zip(maskValidateImagesNP, y_pred_thresh)]\n",
    "mean_dice = np.mean(dice_scores)\n",
    "print(\"Mean DICE score on validation set (aggregated):\", mean_dice)"
   ]
  }
 ],
 "metadata": {
  "kernelspec": {
   "display_name": "Python 3",
   "language": "python",
   "name": "python3"
  },
  "language_info": {
   "codemirror_mode": {
    "name": "ipython",
    "version": 3
   },
   "file_extension": ".py",
   "mimetype": "text/x-python",
   "name": "python",
   "nbconvert_exporter": "python",
   "pygments_lexer": "ipython3",
   "version": "3.11.5"
  }
 },
 "nbformat": 4,
 "nbformat_minor": 5
}
